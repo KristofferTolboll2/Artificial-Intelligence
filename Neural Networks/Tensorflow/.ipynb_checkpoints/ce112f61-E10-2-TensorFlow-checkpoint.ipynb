{
 "cells": [
  {
   "cell_type": "markdown",
   "metadata": {},
   "source": [
    "# E10-2: Introduction to TensorFlow"
   ]
  },
  {
   "cell_type": "markdown",
   "metadata": {},
   "source": [
    "## Procedure\n",
    "1. Create a model\n",
    "2. Build a computation graph\n",
    "3. Run the graph in a session"
   ]
  },
  {
   "cell_type": "markdown",
   "metadata": {},
   "source": [
    "## Demo Example: Multiplication of Scalars"
   ]
  },
  {
   "cell_type": "code",
   "execution_count": null,
   "metadata": {},
   "outputs": [],
   "source": [
    "import os\n",
    "os.getcwd()"
   ]
  },
  {
   "cell_type": "code",
   "execution_count": null,
   "metadata": {},
   "outputs": [],
   "source": [
    "import sys\n",
    "sys.version"
   ]
  },
  {
   "cell_type": "code",
   "execution_count": null,
   "metadata": {},
   "outputs": [],
   "source": [
    "!python -V"
   ]
  },
  {
   "cell_type": "code",
   "execution_count": null,
   "metadata": {},
   "outputs": [],
   "source": [
    "!pip3 install tensorflow"
   ]
  },
  {
   "cell_type": "code",
   "execution_count": null,
   "metadata": {},
   "outputs": [],
   "source": [
    "import tensorflow as tf\n",
    "import numpy as np"
   ]
  },
  {
   "cell_type": "markdown",
   "metadata": {},
   "source": [
    "### Simple Model\n",
    "x1 * x2 + x3 = result"
   ]
  },
  {
   "cell_type": "markdown",
   "metadata": {},
   "source": [
    "### Simple Computational Graph"
   ]
  },
  {
   "cell_type": "markdown",
   "metadata": {},
   "source": [
    "x1\n",
    "    * multiply\n",
    "x2\n",
    "                + add  =  result\n",
    "x3                 "
   ]
  },
  {
   "cell_type": "code",
   "execution_count": 36,
   "metadata": {},
   "outputs": [
    {
     "name": "stdout",
     "output_type": "stream",
     "text": [
      "Tensor(\"Add_4:0\", shape=(), dtype=int32)\n",
      "23\n"
     ]
    }
   ],
   "source": [
    "# Create a simple model and graph\n",
    "# Each operator is a \"node\" in the computation graph\n",
    "with tf.compat.v1.Session() as sess:\n",
    "    x1 = tf.constant(4)\n",
    "    x2 = tf.constant(5)\n",
    "    x3 = tf.constant(3)\n",
    "    product = tf.multiply(x1, x2)\n",
    "    result = tf.add(x3, product)\n",
    "    print(result)\n",
    "    print(sess.run(result))\n",
    "    sess.close()"
   ]
  },
  {
   "cell_type": "markdown",
   "metadata": {},
   "source": [
    "## Demo Example: Multiplication of Vectors"
   ]
  },
  {
   "cell_type": "code",
   "execution_count": 33,
   "metadata": {},
   "outputs": [
    {
     "name": "stdout",
     "output_type": "stream",
     "text": [
      "[ 5 12 21 32]\n"
     ]
    }
   ],
   "source": [
    "# Intialize the Session\n",
    "with tf.compat.v1.Session() as sess:\n",
    "    # Initialize two vectors\n",
    "    x1 = tf.constant([1,2,3,4])\n",
    "    x2 = tf.constant([5,6,7,8])\n",
    "\n",
    "    # Multiply them\n",
    "    result = tf.multiply(x1, x2)\n",
    "\n",
    "    # Print the result\n",
    "    print(sess.run(result))\n",
    "\n",
    "    # Close the session\n",
    "    sess.close()"
   ]
  },
  {
   "cell_type": "markdown",
   "metadata": {},
   "source": [
    "## Demo Example: Multiplication of Matrices"
   ]
  },
  {
   "cell_type": "code",
   "execution_count": 35,
   "metadata": {},
   "outputs": [
    {
     "name": "stdout",
     "output_type": "stream",
     "text": [
      "Tensor(\"MatMul_1:0\", shape=(2, 2), dtype=float32)\n",
      "[[19. 22.]\n",
      " [43. 50.]]\n"
     ]
    }
   ],
   "source": [
    "# Intialize the Session\n",
    "with tf.compat.v1.Session() as sess:\n",
    "    matrix1 = tf.constant([[1., 2.], [3., 4.]])\n",
    "    matrix2 = tf.constant([[5., 6.], [7., 8.]])\n",
    "    product = tf.matmul(matrix1, matrix2)\n",
    "    print(product)\n",
    "    output = sess.run(product)\n",
    "    print(output)"
   ]
  },
  {
   "cell_type": "markdown",
   "metadata": {},
   "source": [
    "<hr>\n",
    "<hr>"
   ]
  }
 ],
 "metadata": {
  "kernelspec": {
   "display_name": "Python 3",
   "language": "python",
   "name": "python3"
  },
  "language_info": {
   "codemirror_mode": {
    "name": "ipython",
    "version": 3
   },
   "file_extension": ".py",
   "mimetype": "text/x-python",
   "name": "python",
   "nbconvert_exporter": "python",
   "pygments_lexer": "ipython3",
   "version": "3.7.4"
  }
 },
 "nbformat": 4,
 "nbformat_minor": 2
}
